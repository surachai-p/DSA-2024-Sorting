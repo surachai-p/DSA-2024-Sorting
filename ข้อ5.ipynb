{
 "cells": [
  {
   "cell_type": "markdown",
   "metadata": {},
   "source": [
    "## ข้อ5.1-5.2"
   ]
  },
  {
   "cell_type": "code",
   "execution_count": 1,
   "metadata": {
    "dotnet_interactive": {
     "language": "csharp"
    },
    "polyglot_notebook": {
     "kernelName": "csharp"
    }
   },
   "outputs": [
    {
     "name": "stdout",
     "output_type": "stream",
     "text": [
      "ข้อมูลก่อนเรียง: [64, 34, 25, 12, 22, 11, 45, 24, 6, 90]\n",
      "ข้อมูลหลังเรียง: [6, 11, 12, 22, 24, 25, 34, 45, 64, 90]\n",
      "เวลาที่ใช้: 0.000000 มิลลิวินาที\n"
     ]
    }
   ],
   "source": [
    "def shell_sort(arr):\n",
    "    n = len(arr)\n",
    "    gap = n // 2  # กำหนดระยะห่างเริ่มต้น\n",
    "    \n",
    "    # ลดระยะห่างลงเรื่อยๆ จนเหลือ 1\n",
    "    while gap > 0:\n",
    "        # ใช้ Insertion Sort กับแต่ละกลุ่มของข้อมูลที่ห่างกันด้วยระยะ gap\n",
    "        for i in range(gap, n):\n",
    "            temp = arr[i]\n",
    "            j = i\n",
    "            \n",
    "            # ย้ายตัวที่มีค่ามากกว่า temp ไปทางขวา\n",
    "            while j >= gap and arr[j - gap] > temp:\n",
    "                arr[j] = arr[j - gap]\n",
    "                j -= gap\n",
    "            \n",
    "            # ใส่ temp ลงในตำแหน่งที่เหมาะสม\n",
    "            arr[j] = temp\n",
    "        \n",
    "        # ลดระยะห่างลงครึ่งหนึ่ง\n",
    "        gap //= 2\n",
    "    \n",
    "    return arr\n",
    "import time\n",
    "# ทดสอบ Shell Sort\n",
    "test_data = [64, 34, 25, 12, 22, 11, 45, 24, 6, 90]\n",
    "print(\"ข้อมูลก่อนเรียง:\", test_data)\n",
    "\n",
    "start_time = time.time()\n",
    "sorted_data = shell_sort(test_data.copy())\n",
    "end_time = time.time()\n",
    "\n",
    "print(\"ข้อมูลหลังเรียง:\", sorted_data)\n",
    "print(f\"เวลาที่ใช้: {(end_time - start_time)*1000:.6f} มิลลิวินาที\")"
   ]
  },
  {
   "cell_type": "markdown",
   "metadata": {},
   "source": [
    "## ข้อ5.3"
   ]
  },
  {
   "cell_type": "code",
   "execution_count": 2,
   "metadata": {},
   "outputs": [
    {
     "name": "stdout",
     "output_type": "stream",
     "text": [
      "ข้อมูลก่อนเรียง: [64, 34, 25, 12, 22, 11, 45, 24, 6, 90]\n",
      "ข้อมูลหลังเรียง: [6, 11, 12, 22, 24, 25, 34, 45, 64, 90]\n",
      "เวลาที่ใช้: 0.000000 มิลลิวินาที\n",
      "เริ่มต้น: [64, 34, 25, 12, 22, 11, 45, 24, 6, 90]\n",
      "\n",
      "กำหนดระยะห่าง (gap) = 5\n",
      "  พิจารณาตำแหน่ง 5 (ค่า 11):\n",
      "    เปรียบเทียบกับตำแหน่ง 0 (ค่า 64) -> ย้าย 64 ไปตำแหน่ง 5\n",
      "    ใส่ 11 ลงในตำแหน่ง 0\n",
      "    ข้อมูลหลังการพิจารณา: [11, 34, 25, 12, 22, 64, 45, 24, 6, 90]\n",
      "  พิจารณาตำแหน่ง 6 (ค่า 45):\n",
      "    ไม่มีการเปลี่ยนแปลง\n",
      "    ข้อมูลหลังการพิจารณา: [11, 34, 25, 12, 22, 64, 45, 24, 6, 90]\n",
      "  พิจารณาตำแหน่ง 7 (ค่า 24):\n",
      "    เปรียบเทียบกับตำแหน่ง 2 (ค่า 25) -> ย้าย 25 ไปตำแหน่ง 7\n",
      "    ใส่ 24 ลงในตำแหน่ง 2\n",
      "    ข้อมูลหลังการพิจารณา: [11, 34, 24, 12, 22, 64, 45, 25, 6, 90]\n",
      "  พิจารณาตำแหน่ง 8 (ค่า 6):\n",
      "    เปรียบเทียบกับตำแหน่ง 3 (ค่า 12) -> ย้าย 12 ไปตำแหน่ง 8\n",
      "    ใส่ 6 ลงในตำแหน่ง 3\n",
      "    ข้อมูลหลังการพิจารณา: [11, 34, 24, 6, 22, 64, 45, 25, 12, 90]\n",
      "  พิจารณาตำแหน่ง 9 (ค่า 90):\n",
      "    ไม่มีการเปลี่ยนแปลง\n",
      "    ข้อมูลหลังการพิจารณา: [11, 34, 24, 6, 22, 64, 45, 25, 12, 90]\n",
      "\n",
      "กำหนดระยะห่าง (gap) = 2\n",
      "  พิจารณาตำแหน่ง 2 (ค่า 24):\n",
      "    ไม่มีการเปลี่ยนแปลง\n",
      "    ข้อมูลหลังการพิจารณา: [11, 34, 24, 6, 22, 64, 45, 25, 12, 90]\n",
      "  พิจารณาตำแหน่ง 3 (ค่า 6):\n",
      "    เปรียบเทียบกับตำแหน่ง 1 (ค่า 34) -> ย้าย 34 ไปตำแหน่ง 3\n",
      "    ใส่ 6 ลงในตำแหน่ง 1\n",
      "    ข้อมูลหลังการพิจารณา: [11, 6, 24, 34, 22, 64, 45, 25, 12, 90]\n",
      "  พิจารณาตำแหน่ง 4 (ค่า 22):\n",
      "    เปรียบเทียบกับตำแหน่ง 2 (ค่า 24) -> ย้าย 24 ไปตำแหน่ง 4\n",
      "    ใส่ 22 ลงในตำแหน่ง 2\n",
      "    ข้อมูลหลังการพิจารณา: [11, 6, 22, 34, 24, 64, 45, 25, 12, 90]\n",
      "  พิจารณาตำแหน่ง 5 (ค่า 64):\n",
      "    ไม่มีการเปลี่ยนแปลง\n",
      "    ข้อมูลหลังการพิจารณา: [11, 6, 22, 34, 24, 64, 45, 25, 12, 90]\n",
      "  พิจารณาตำแหน่ง 6 (ค่า 45):\n",
      "    ไม่มีการเปลี่ยนแปลง\n",
      "    ข้อมูลหลังการพิจารณา: [11, 6, 22, 34, 24, 64, 45, 25, 12, 90]\n",
      "  พิจารณาตำแหน่ง 7 (ค่า 25):\n",
      "    เปรียบเทียบกับตำแหน่ง 5 (ค่า 64) -> ย้าย 64 ไปตำแหน่ง 7\n",
      "    เปรียบเทียบกับตำแหน่ง 3 (ค่า 34) -> ย้าย 34 ไปตำแหน่ง 5\n",
      "    ใส่ 25 ลงในตำแหน่ง 3\n",
      "    ข้อมูลหลังการพิจารณา: [11, 6, 22, 25, 24, 34, 45, 64, 12, 90]\n",
      "  พิจารณาตำแหน่ง 8 (ค่า 12):\n",
      "    เปรียบเทียบกับตำแหน่ง 6 (ค่า 45) -> ย้าย 45 ไปตำแหน่ง 8\n",
      "    เปรียบเทียบกับตำแหน่ง 4 (ค่า 24) -> ย้าย 24 ไปตำแหน่ง 6\n",
      "    เปรียบเทียบกับตำแหน่ง 2 (ค่า 22) -> ย้าย 22 ไปตำแหน่ง 4\n",
      "    ใส่ 12 ลงในตำแหน่ง 2\n",
      "    ข้อมูลหลังการพิจารณา: [11, 6, 12, 25, 22, 34, 24, 64, 45, 90]\n",
      "  พิจารณาตำแหน่ง 9 (ค่า 90):\n",
      "    ไม่มีการเปลี่ยนแปลง\n",
      "    ข้อมูลหลังการพิจารณา: [11, 6, 12, 25, 22, 34, 24, 64, 45, 90]\n",
      "\n",
      "กำหนดระยะห่าง (gap) = 1\n",
      "  พิจารณาตำแหน่ง 1 (ค่า 6):\n",
      "    เปรียบเทียบกับตำแหน่ง 0 (ค่า 11) -> ย้าย 11 ไปตำแหน่ง 1\n",
      "    ใส่ 6 ลงในตำแหน่ง 0\n",
      "    ข้อมูลหลังการพิจารณา: [6, 11, 12, 25, 22, 34, 24, 64, 45, 90]\n",
      "  พิจารณาตำแหน่ง 2 (ค่า 12):\n",
      "    ไม่มีการเปลี่ยนแปลง\n",
      "    ข้อมูลหลังการพิจารณา: [6, 11, 12, 25, 22, 34, 24, 64, 45, 90]\n",
      "  พิจารณาตำแหน่ง 3 (ค่า 25):\n",
      "    ไม่มีการเปลี่ยนแปลง\n",
      "    ข้อมูลหลังการพิจารณา: [6, 11, 12, 25, 22, 34, 24, 64, 45, 90]\n",
      "  พิจารณาตำแหน่ง 4 (ค่า 22):\n",
      "    เปรียบเทียบกับตำแหน่ง 3 (ค่า 25) -> ย้าย 25 ไปตำแหน่ง 4\n",
      "    ใส่ 22 ลงในตำแหน่ง 3\n",
      "    ข้อมูลหลังการพิจารณา: [6, 11, 12, 22, 25, 34, 24, 64, 45, 90]\n",
      "  พิจารณาตำแหน่ง 5 (ค่า 34):\n",
      "    ไม่มีการเปลี่ยนแปลง\n",
      "    ข้อมูลหลังการพิจารณา: [6, 11, 12, 22, 25, 34, 24, 64, 45, 90]\n",
      "  พิจารณาตำแหน่ง 6 (ค่า 24):\n",
      "    เปรียบเทียบกับตำแหน่ง 5 (ค่า 34) -> ย้าย 34 ไปตำแหน่ง 6\n",
      "    เปรียบเทียบกับตำแหน่ง 4 (ค่า 25) -> ย้าย 25 ไปตำแหน่ง 5\n",
      "    ใส่ 24 ลงในตำแหน่ง 4\n",
      "    ข้อมูลหลังการพิจารณา: [6, 11, 12, 22, 24, 25, 34, 64, 45, 90]\n",
      "  พิจารณาตำแหน่ง 7 (ค่า 64):\n",
      "    ไม่มีการเปลี่ยนแปลง\n",
      "    ข้อมูลหลังการพิจารณา: [6, 11, 12, 22, 24, 25, 34, 64, 45, 90]\n",
      "  พิจารณาตำแหน่ง 8 (ค่า 45):\n",
      "    เปรียบเทียบกับตำแหน่ง 7 (ค่า 64) -> ย้าย 64 ไปตำแหน่ง 8\n",
      "    ใส่ 45 ลงในตำแหน่ง 7\n",
      "    ข้อมูลหลังการพิจารณา: [6, 11, 12, 22, 24, 25, 34, 45, 64, 90]\n",
      "  พิจารณาตำแหน่ง 9 (ค่า 90):\n",
      "    ไม่มีการเปลี่ยนแปลง\n",
      "    ข้อมูลหลังการพิจารณา: [6, 11, 12, 22, 24, 25, 34, 45, 64, 90]\n"
     ]
    },
    {
     "data": {
      "text/plain": [
       "[6, 11, 12, 22, 24, 25, 34, 45, 64, 90]"
      ]
     },
     "execution_count": 2,
     "metadata": {},
     "output_type": "execute_result"
    }
   ],
   "source": [
    "def shell_sort(arr):\n",
    "    n = len(arr)\n",
    "    gap = n // 2  # กำหนดระยะห่างเริ่มต้น\n",
    "    \n",
    "    # ลดระยะห่างลงเรื่อยๆ จนเหลือ 1\n",
    "    while gap > 0:\n",
    "        # ใช้ Insertion Sort กับแต่ละกลุ่มของข้อมูลที่ห่างกันด้วยระยะ gap\n",
    "        for i in range(gap, n):\n",
    "            temp = arr[i]\n",
    "            j = i\n",
    "            \n",
    "            # ย้ายตัวที่มีค่ามากกว่า temp ไปทางขวา\n",
    "            while j >= gap and arr[j - gap] > temp:\n",
    "                arr[j] = arr[j - gap]\n",
    "                j -= gap\n",
    "            \n",
    "            # ใส่ temp ลงในตำแหน่งที่เหมาะสม\n",
    "            arr[j] = temp\n",
    "        \n",
    "        # ลดระยะห่างลงครึ่งหนึ่ง\n",
    "        gap //= 2\n",
    "    \n",
    "    return arr\n",
    "import time\n",
    "# ทดสอบ Shell Sort\n",
    "test_data = [64, 34, 25, 12, 22, 11, 45, 24, 6, 90]\n",
    "print(\"ข้อมูลก่อนเรียง:\", test_data)\n",
    "\n",
    "start_time = time.time()\n",
    "sorted_data = shell_sort(test_data.copy())\n",
    "end_time = time.time()\n",
    "\n",
    "print(\"ข้อมูลหลังเรียง:\", sorted_data)\n",
    "print(f\"เวลาที่ใช้: {(end_time - start_time)*1000:.6f} มิลลิวินาที\")\n",
    "\n",
    "def shell_sort_with_steps(arr):\n",
    "    n = len(arr)\n",
    "    gap = n // 2\n",
    "    \n",
    "    print(f\"เริ่มต้น: {arr}\")\n",
    "    \n",
    "    while gap > 0:\n",
    "        print(f\"\\nกำหนดระยะห่าง (gap) = {gap}\")\n",
    "        \n",
    "        for i in range(gap, n):\n",
    "            temp = arr[i]\n",
    "            j = i\n",
    "            \n",
    "            print(f\"  พิจารณาตำแหน่ง {i} (ค่า {temp}):\")\n",
    "            \n",
    "            while j >= gap and arr[j - gap] > temp:\n",
    "                print(f\"    เปรียบเทียบกับตำแหน่ง {j-gap} (ค่า {arr[j-gap]}) -> ย้าย {arr[j-gap]} ไปตำแหน่ง {j}\")\n",
    "                arr[j] = arr[j - gap]\n",
    "                j -= gap\n",
    "            \n",
    "            if j != i:\n",
    "                print(f\"    ใส่ {temp} ลงในตำแหน่ง {j}\")\n",
    "                arr[j] = temp\n",
    "            else:\n",
    "                print(f\"    ไม่มีการเปลี่ยนแปลง\")\n",
    "            \n",
    "            print(f\"    ข้อมูลหลังการพิจารณา: {arr}\")\n",
    "        \n",
    "        gap //= 2\n",
    "    \n",
    "    return arr\n",
    "\n",
    "# ทดสอบแสดงขั้นตอน\n",
    "test_data = [64, 34, 25, 12, 22, 11, 45, 24, 6, 90]\n",
    "shell_sort_with_steps(test_data.copy())"
   ]
  },
  {
   "cell_type": "markdown",
   "metadata": {},
   "source": [
    "#### 1. เปรียบเทียบประสิทธิภาพกับ Insertion Sort ปกติเมื่อทดสอบกับชุดข้อมูลขนาดใหญ่"
   ]
  },
  {
   "cell_type": "code",
   "execution_count": 1,
   "metadata": {},
   "outputs": [
    {
     "name": "stdout",
     "output_type": "stream",
     "text": [
      "เวลาที่ใช้ในการเรียง Insertion Sort: 144921.534061 มิลลิวินาที\n",
      "เวลาที่ใช้ในการเรียง Shell Sort: 413.008451 มิลลิวินาที\n"
     ]
    }
   ],
   "source": [
    "import random\n",
    "import time\n",
    "\n",
    "# ฟังก์ชัน Insertion Sort\n",
    "def insertion_sort(arr):\n",
    "    for i in range(1, len(arr)):\n",
    "        key = arr[i]\n",
    "        j = i - 1\n",
    "        while j >= 0 and arr[j] > key:\n",
    "            arr[j + 1] = arr[j]\n",
    "            j -= 1\n",
    "        arr[j + 1] = key\n",
    "    return arr\n",
    "\n",
    "# ฟังก์ชัน Shell Sort\n",
    "def shell_sort(arr):\n",
    "    n = len(arr)\n",
    "    gap = n // 2  # กำหนดระยะห่างเริ่มต้น\n",
    "    \n",
    "    while gap > 0:\n",
    "        for i in range(gap, n):\n",
    "            temp = arr[i]\n",
    "            j = i\n",
    "            while j >= gap and arr[j - gap] > temp:\n",
    "                arr[j] = arr[j - gap]\n",
    "                j -= gap\n",
    "            arr[j] = temp\n",
    "        gap //= 2\n",
    "    return arr\n",
    "\n",
    "# สร้างชุดข้อมูลขนาดใหญ่ (100,000 ตัวเลข)\n",
    "test_data = random.sample(range(1, 100001), 100000)\n",
    "\n",
    "# ทดสอบ Insertion Sort\n",
    "start_time = time.time()\n",
    "insertion_sorted_data = insertion_sort(test_data.copy())\n",
    "end_time = time.time()\n",
    "print(f\"เวลาที่ใช้ในการเรียง Insertion Sort: {(end_time - start_time)*1000:.6f} มิลลิวินาที\")\n",
    "\n",
    "# ทดสอบ Shell Sort\n",
    "start_time = time.time()\n",
    "shell_sorted_data = shell_sort(test_data.copy())\n",
    "end_time = time.time()\n",
    "print(f\"เวลาที่ใช้ในการเรียง Shell Sort: {(end_time - start_time)*1000:.6f} มิลลิวินาที\")\n"
   ]
  },
  {
   "cell_type": "markdown",
   "metadata": {},
   "source": [
    "#### 2. ทดสอบกับชุดข้อมูลที่เกือบเรียงลำดับแล้ว และวัดประสิทธิภาพ"
   ]
  },
  {
   "cell_type": "code",
   "execution_count": 3,
   "metadata": {},
   "outputs": [
    {
     "name": "stdout",
     "output_type": "stream",
     "text": [
      "เวลาที่ใช้ในการเรียง Insertion Sort (Nearly Sorted): 4.988432 มิลลิวินาที\n",
      "เวลาที่ใช้ในการเรียง Shell Sort (Nearly Sorted): 9.966373 มิลลิวินาที\n"
     ]
    }
   ],
   "source": [
    "import random\n",
    "import time\n",
    "\n",
    "# ฟังก์ชัน Insertion Sort\n",
    "def insertion_sort(arr):\n",
    "    for i in range(1, len(arr)):\n",
    "        key = arr[i]\n",
    "        j = i - 1\n",
    "        while j >= 0 and arr[j] > key:\n",
    "            arr[j + 1] = arr[j]\n",
    "            j -= 1\n",
    "        arr[j + 1] = key\n",
    "    return arr\n",
    "\n",
    "# ฟังก์ชัน Shell Sort\n",
    "def shell_sort(arr):\n",
    "    n = len(arr)\n",
    "    gap = n // 2  # กำหนดระยะห่างเริ่มต้น\n",
    "    \n",
    "    while gap > 0:\n",
    "        for i in range(gap, n):\n",
    "            temp = arr[i]\n",
    "            j = i\n",
    "            while j >= gap and arr[j - gap] > temp:\n",
    "                arr[j] = arr[j - gap]\n",
    "                j -= gap\n",
    "            arr[j] = temp\n",
    "        gap //= 2\n",
    "    return arr\n",
    "\n",
    "# สร้างชุดข้อมูลที่เกือบเรียงลำดับแล้ว (Nearly Sorted Data)\n",
    "def generate_nearly_sorted_data(size, swap_count=10):\n",
    "    arr = list(range(1, size + 1))  # สร้างชุดข้อมูลที่เรียงลำดับแล้ว\n",
    "    for _ in range(swap_count):\n",
    "        i = random.randint(0, size - 1)\n",
    "        j = random.randint(0, size - 1)\n",
    "        arr[i], arr[j] = arr[j], arr[i]  # สลับตำแหน่งระหว่างสองค่าที่สุ่ม\n",
    "    return arr\n",
    "\n",
    "# สร้างชุดข้อมูลเกือบเรียงลำดับแล้วขนาด 10,000\n",
    "test_data = generate_nearly_sorted_data(10000)\n",
    "\n",
    "# ทดสอบ Insertion Sort\n",
    "start_time = time.time()\n",
    "insertion_sorted_data = insertion_sort(test_data.copy())\n",
    "end_time = time.time()\n",
    "print(f\"เวลาที่ใช้ในการเรียง Insertion Sort (Nearly Sorted): {(end_time - start_time)*1000:.6f} มิลลิวินาที\")\n",
    "\n",
    "# ทดสอบ Shell Sort\n",
    "start_time = time.time()\n",
    "shell_sorted_data = shell_sort(test_data.copy())\n",
    "end_time = time.time()\n",
    "print(f\"เวลาที่ใช้ในการเรียง Shell Sort (Nearly Sorted): {(end_time - start_time)*1000:.6f} มิลลิวินาที\")"
   ]
  }
 ],
 "metadata": {
  "kernelspec": {
   "display_name": "Python 3",
   "language": "python",
   "name": "python3"
  },
  "language_info": {
   "codemirror_mode": {
    "name": "ipython",
    "version": 3
   },
   "file_extension": ".py",
   "mimetype": "text/x-python",
   "name": "python",
   "nbconvert_exporter": "python",
   "pygments_lexer": "ipython3",
   "version": "3.11.0"
  },
  "polyglot_notebook": {
   "kernelInfo": {
    "defaultKernelName": "csharp",
    "items": [
     {
      "aliases": [],
      "languageName": "csharp",
      "name": "csharp"
     }
    ]
   }
  }
 },
 "nbformat": 4,
 "nbformat_minor": 2
}
