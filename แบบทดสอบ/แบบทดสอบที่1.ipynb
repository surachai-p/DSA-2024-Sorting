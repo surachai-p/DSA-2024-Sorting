{
 "cells": [
  {
   "cell_type": "markdown",
   "metadata": {},
   "source": [
    "1. ปรับปรุงโค้ด ในฟังก์ชัน bubble_sort(arr)  ให้มีประสิทธิภาพมากขึ้นโดยเพิ่มการตรวจสอบว่ามีการสลับตำแหน่งในแต่ละรอบหรือไม่ ถ้าไม่มีการสลับแสดงว่าข้อมูลเรียงลำดับแล้ว สามารถหยุดการทำงานได้ทันที"
   ]
  },
  {
   "cell_type": "code",
   "execution_count": 2,
   "metadata": {
    "dotnet_interactive": {
     "language": "csharp"
    },
    "polyglot_notebook": {
     "kernelName": "csharp"
    }
   },
   "outputs": [
    {
     "name": "stdout",
     "output_type": "stream",
     "text": [
      "ข้อมูลก่อนเรียง: [64, 34, 25, 12, 22, 11, 45, 24, 6, 90]\n",
      "ข้อมูลหลังเรียง: [6, 11, 12, 22, 24, 25, 34, 45, 64, 90]\n"
     ]
    }
   ],
   "source": [
    "def bubble_sort(arr):\n",
    "    n = len(arr)\n",
    "    \n",
    "    for i in range(n):\n",
    "        swapped = False  # ตัวแปรเพื่อตรวจสอบว่ามีการสลับตำแหน่งในรอบนี้หรือไม่\n",
    "        \n",
    "        # ลูปสำหรับเปรียบเทียบคู่ตัวเลขที่ติดกัน\n",
    "        for j in range(0, n-i-1):\n",
    "            if arr[j] > arr[j+1]:\n",
    "                # ถ้า arr[j] มากกว่า arr[j+1] ให้สลับตำแหน่ง\n",
    "                arr[j], arr[j+1] = arr[j+1], arr[j]\n",
    "                swapped = True  # ทำการตั้งค่า swapped เป็น True เพราะมีการสลับ\n",
    "        \n",
    "        # ถ้าไม่มีการสลับในรอบนี้ แสดงว่าข้อมูลเรียงลำดับแล้ว\n",
    "        if not swapped:\n",
    "            break  # หยุดการทำงานทันที เพราะข้อมูลได้เรียงลำดับแล้ว\n",
    "    \n",
    "    return arr\n",
    "\n",
    "# ทดสอบ\n",
    "test_data = [64, 34, 25, 12, 22, 11, 45, 24, 6, 90]\n",
    "print(\"ข้อมูลก่อนเรียง:\", test_data)\n",
    "\n",
    "sorted_data = bubble_sort(test_data.copy())\n",
    "print(\"ข้อมูลหลังเรียง:\", sorted_data)\n"
   ]
  },
  {
   "cell_type": "markdown",
   "metadata": {},
   "source": [
    "ทดสอบกับชุดข้อมูลที่เรียงลำดับแล้ว เช่น `[1, 2, 3, 4, 5,6,7,8,9,10]` และวัดประสิทธิภาพ"
   ]
  },
  {
   "cell_type": "code",
   "execution_count": 1,
   "metadata": {
    "dotnet_interactive": {
     "language": "csharp"
    },
    "polyglot_notebook": {
     "kernelName": "csharp"
    }
   },
   "outputs": [
    {
     "name": "stdout",
     "output_type": "stream",
     "text": [
      "ข้อมูลหลังเรียง: [1, 2, 3, 4, 5, 6, 7, 8, 9, 10]\n",
      "เวลาที่ใช้: 0.053406 มิลลิวินาที\n"
     ]
    }
   ],
   "source": [
    "import time\n",
    "\n",
    "def bubble_sort(arr):\n",
    "    n = len(arr)\n",
    "    \n",
    "    for i in range(n):\n",
    "        swapped = False  # ตัวแปรเพื่อตรวจสอบว่ามีการสลับตำแหน่งในรอบนี้หรือไม่\n",
    "        \n",
    "        # ลูปสำหรับเปรียบเทียบคู่ตัวเลขที่ติดกัน\n",
    "        for j in range(0, n-i-1):\n",
    "            if arr[j] > arr[j+1]:\n",
    "                # ถ้า arr[j] มากกว่า arr[j+1] ให้สลับตำแหน่ง\n",
    "                arr[j], arr[j+1] = arr[j+1], arr[j]\n",
    "                swapped = True  # ทำการตั้งค่า swapped เป็น True เพราะมีการสลับ\n",
    "        \n",
    "        # ถ้าไม่มีการสลับในรอบนี้ แสดงว่าข้อมูลเรียงลำดับแล้ว\n",
    "        if not swapped:\n",
    "            break  # หยุดการทำงานทันที เพราะข้อมูลได้เรียงลำดับแล้ว\n",
    "    \n",
    "    return arr\n",
    "\n",
    "# ชุดข้อมูลที่เรียงลำดับแล้ว\n",
    "test_data_sorted = [1, 2, 3, 4, 5, 6, 7, 8, 9, 10]\n",
    "\n",
    "# วัดเวลาในการทำงาน\n",
    "start_time = time.time()\n",
    "sorted_data = bubble_sort(test_data_sorted.copy())\n",
    "end_time = time.time()\n",
    "\n",
    "print(\"ข้อมูลหลังเรียง:\", sorted_data)\n",
    "print(f\"เวลาที่ใช้: {(end_time - start_time)*1000:.6f} มิลลิวินาที\")"
   ]
  }
 ],
 "metadata": {
  "kernelspec": {
   "display_name": "Python 3",
   "language": "python",
   "name": "python3"
  },
  "language_info": {
   "codemirror_mode": {
    "name": "ipython",
    "version": 3
   },
   "file_extension": ".py",
   "mimetype": "text/x-python",
   "name": "python",
   "nbconvert_exporter": "python",
   "pygments_lexer": "ipython3",
   "version": "3.13.2"
  },
  "polyglot_notebook": {
   "kernelInfo": {
    "defaultKernelName": "csharp",
    "items": [
     {
      "aliases": [],
      "languageName": "csharp",
      "name": "csharp"
     }
    ]
   }
  }
 },
 "nbformat": 4,
 "nbformat_minor": 2
}
