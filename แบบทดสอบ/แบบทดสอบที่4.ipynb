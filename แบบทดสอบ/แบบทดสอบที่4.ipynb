{
 "cells": [
  {
   "cell_type": "markdown",
   "metadata": {},
   "source": [
    "1. ปรับปรุงการเลือก pivot โดยใช้การเปรียบเทียบตำแหน่งแรก ตำแหน่งตรงกลาง และแหน่งสุดท้าย"
   ]
  },
  {
   "cell_type": "code",
   "execution_count": 1,
   "metadata": {},
   "outputs": [
    {
     "name": "stdout",
     "output_type": "stream",
     "text": [
      "quick_sort([64, 34, 25, 12, 22, 11, 45, 24, 6, 90])\n",
      "เลือก pivot = 64\n",
      "แบ่งข้อมูล: left = [34, 25, 12, 22, 11, 45, 24, 6], right = [90]\n",
      "  quick_sort([34, 25, 12, 22, 11, 45, 24, 6])\n",
      "  เลือก pivot = 11\n",
      "  แบ่งข้อมูล: left = [6], right = [34, 25, 12, 22, 45, 24]\n",
      "    quick_sort([6])\n",
      "    ข้อมูลมีขนาด <= 1, ส่งคืน [6]\n",
      "    quick_sort([34, 25, 12, 22, 45, 24])\n",
      "    เลือก pivot = 24\n",
      "    แบ่งข้อมูล: left = [12, 22], right = [34, 25, 45]\n",
      "      quick_sort([12, 22])\n",
      "      เลือก pivot = 22\n",
      "      แบ่งข้อมูล: left = [12], right = []\n",
      "        quick_sort([12])\n",
      "        ข้อมูลมีขนาด <= 1, ส่งคืน [12]\n",
      "        quick_sort([])\n",
      "        ข้อมูลมีขนาด <= 1, ส่งคืน []\n",
      "      ผลลัพธ์รวม: [12, 22]\n",
      "      quick_sort([34, 25, 45])\n",
      "      เลือก pivot = 34\n",
      "      แบ่งข้อมูล: left = [25], right = [45]\n",
      "        quick_sort([25])\n",
      "        ข้อมูลมีขนาด <= 1, ส่งคืน [25]\n",
      "        quick_sort([45])\n",
      "        ข้อมูลมีขนาด <= 1, ส่งคืน [45]\n",
      "      ผลลัพธ์รวม: [25, 34, 45]\n",
      "    ผลลัพธ์รวม: [12, 22, 24, 25, 34, 45]\n",
      "  ผลลัพธ์รวม: [6, 11, 12, 22, 24, 25, 34, 45]\n",
      "  quick_sort([90])\n",
      "  ข้อมูลมีขนาด <= 1, ส่งคืน [90]\n",
      "ผลลัพธ์รวม: [6, 11, 12, 22, 24, 25, 34, 45, 64, 90]\n"
     ]
    },
    {
     "data": {
      "text/plain": [
       "[6, 11, 12, 22, 24, 25, 34, 45, 64, 90]"
      ]
     },
     "execution_count": 1,
     "metadata": {},
     "output_type": "execute_result"
    }
   ],
   "source": [
    "def quick_sort_with_median_pivot(arr, depth=0):\n",
    "    indent = \"  \" * depth\n",
    "    print(f\"{indent}quick_sort({arr})\")\n",
    "    \n",
    "    if len(arr) <= 1:\n",
    "        print(f\"{indent}ข้อมูลมีขนาด <= 1, ส่งคืน {arr}\")\n",
    "        return arr\n",
    "    \n",
    "    # เลือก pivot โดยใช้ median of three (ตำแหน่งแรก, ตำแหน่งกลาง, และตำแหน่งสุดท้าย)\n",
    "    first = arr[0]\n",
    "    middle = arr[len(arr) // 2]\n",
    "    last = arr[-1]\n",
    "    \n",
    "    # หาค่าที่กลางที่สุดจากสามตำแหน่ง\n",
    "    if first > middle:\n",
    "        if first < last:\n",
    "            pivot = first\n",
    "        elif middle > last:\n",
    "            pivot = middle\n",
    "        else:\n",
    "            pivot = last\n",
    "    else:\n",
    "        if first > last:\n",
    "            pivot = first\n",
    "        elif middle < last:\n",
    "            pivot = middle\n",
    "        else:\n",
    "            pivot = last\n",
    "    \n",
    "    print(f\"{indent}เลือก pivot = {pivot}\")\n",
    "    \n",
    "    # แบ่งข้อมูลเป็นสองส่วน: left (ค่าที่ <= pivot) และ right (ค่าที่ > pivot)\n",
    "    left = [x for x in arr if x < pivot]\n",
    "    right = [x for x in arr if x > pivot]\n",
    "    \n",
    "    # แสดงขั้นตอนการแบ่ง\n",
    "    print(f\"{indent}แบ่งข้อมูล: left = {left}, right = {right}\")\n",
    "    \n",
    "    # เรียกฟังก์ชัน quick_sort ซ้ำในทั้งสองส่วน\n",
    "    result = quick_sort_with_median_pivot(left, depth + 1) + [pivot] + quick_sort_with_median_pivot(right, depth + 1)\n",
    "    print(f\"{indent}ผลลัพธ์รวม: {result}\")\n",
    "    \n",
    "    return result\n",
    "\n",
    "# ทดสอบการแสดงขั้นตอน\n",
    "test_data = [64, 34, 25, 12, 22, 11, 45, 24, 6, 90]\n",
    "quick_sort_with_median_pivot(test_data.copy())\n"
   ]
  },
  {
   "cell_type": "markdown",
   "metadata": {},
   "source": [
    "2. ทดสอบกับชุดข้อมูลที่มีค่าซ้ำกันจำนวนมาก และตรวจสอบผลลัพธ์"
   ]
  },
  {
   "cell_type": "code",
   "execution_count": 2,
   "metadata": {},
   "outputs": [
    {
     "name": "stdout",
     "output_type": "stream",
     "text": [
      "quick_sort([3, 1, 4, 1, 5, 9, 2, 6, 5, 9, 2, 3, 1, 4, 5, 9, 5])\n",
      "เลือก pivot = 5\n",
      "แบ่งข้อมูล: left = [3, 1, 4, 1, 2, 2, 3, 1, 4], right = [9, 6, 9, 9]\n",
      "  quick_sort([3, 1, 4, 1, 2, 2, 3, 1, 4])\n",
      "  เลือก pivot = 3\n",
      "  แบ่งข้อมูล: left = [1, 1, 2, 2, 1], right = [4, 4]\n",
      "    quick_sort([1, 1, 2, 2, 1])\n",
      "    เลือก pivot = 1\n",
      "    แบ่งข้อมูล: left = [], right = [2, 2]\n",
      "      quick_sort([])\n",
      "      ข้อมูลมีขนาด <= 1, ส่งคืน []\n",
      "      quick_sort([2, 2])\n",
      "      เลือก pivot = 2\n",
      "      แบ่งข้อมูล: left = [], right = []\n",
      "        quick_sort([])\n",
      "        ข้อมูลมีขนาด <= 1, ส่งคืน []\n",
      "        quick_sort([])\n",
      "        ข้อมูลมีขนาด <= 1, ส่งคืน []\n",
      "      ผลลัพธ์รวม: [2]\n",
      "    ผลลัพธ์รวม: [1, 2]\n",
      "    quick_sort([4, 4])\n",
      "    เลือก pivot = 4\n",
      "    แบ่งข้อมูล: left = [], right = []\n",
      "      quick_sort([])\n",
      "      ข้อมูลมีขนาด <= 1, ส่งคืน []\n",
      "      quick_sort([])\n",
      "      ข้อมูลมีขนาด <= 1, ส่งคืน []\n",
      "    ผลลัพธ์รวม: [4]\n",
      "  ผลลัพธ์รวม: [1, 2, 3, 4]\n",
      "  quick_sort([9, 6, 9, 9])\n",
      "  เลือก pivot = 9\n",
      "  แบ่งข้อมูล: left = [6], right = []\n",
      "    quick_sort([6])\n",
      "    ข้อมูลมีขนาด <= 1, ส่งคืน [6]\n",
      "    quick_sort([])\n",
      "    ข้อมูลมีขนาด <= 1, ส่งคืน []\n",
      "  ผลลัพธ์รวม: [6, 9]\n",
      "ผลลัพธ์รวม: [1, 2, 3, 4, 5, 6, 9]\n",
      "ข้อมูลหลังเรียงลำดับ: [1, 2, 3, 4, 5, 6, 9]\n"
     ]
    }
   ],
   "source": [
    "def quick_sort_with_median_pivot(arr, depth=0):\n",
    "    indent = \"  \" * depth\n",
    "    print(f\"{indent}quick_sort({arr})\")\n",
    "    \n",
    "    if len(arr) <= 1:\n",
    "        print(f\"{indent}ข้อมูลมีขนาด <= 1, ส่งคืน {arr}\")\n",
    "        return arr\n",
    "    \n",
    "    # เลือก pivot โดยใช้ median of three (ตำแหน่งแรก, ตำแหน่งกลาง, และตำแหน่งสุดท้าย)\n",
    "    first = arr[0]\n",
    "    middle = arr[len(arr) // 2]\n",
    "    last = arr[-1]\n",
    "    \n",
    "    # หาค่าที่กลางที่สุดจากสามตำแหน่ง\n",
    "    if first > middle:\n",
    "        if first < last:\n",
    "            pivot = first\n",
    "        elif middle > last:\n",
    "            pivot = middle\n",
    "        else:\n",
    "            pivot = last\n",
    "    else:\n",
    "        if first > last:\n",
    "            pivot = first\n",
    "        elif middle < last:\n",
    "            pivot = middle\n",
    "        else:\n",
    "            pivot = last\n",
    "    \n",
    "    print(f\"{indent}เลือก pivot = {pivot}\")\n",
    "    \n",
    "    # แบ่งข้อมูลเป็นสองส่วน: left (ค่าที่ <= pivot) และ right (ค่าที่ > pivot)\n",
    "    left = [x for x in arr if x < pivot]\n",
    "    right = [x for x in arr if x > pivot]\n",
    "    \n",
    "    # แสดงขั้นตอนการแบ่ง\n",
    "    print(f\"{indent}แบ่งข้อมูล: left = {left}, right = {right}\")\n",
    "    \n",
    "    # เรียกฟังก์ชัน quick_sort ซ้ำในทั้งสองส่วน\n",
    "    result = quick_sort_with_median_pivot(left, depth + 1) + [pivot] + quick_sort_with_median_pivot(right, depth + 1)\n",
    "    print(f\"{indent}ผลลัพธ์รวม: {result}\")\n",
    "    \n",
    "    return result\n",
    "\n",
    "# ทดสอบการแสดงขั้นตอนกับชุดข้อมูลที่มีค่าซ้ำ\n",
    "test_data = [3, 1, 4, 1, 5, 9, 2, 6, 5, 9, 2, 3, 1, 4, 5, 9, 5]\n",
    "sorted_data = quick_sort_with_median_pivot(test_data.copy())\n",
    "print(\"ข้อมูลหลังเรียงลำดับ:\", sorted_data)\n"
   ]
  }
 ],
 "metadata": {
  "kernelspec": {
   "display_name": "Python 3",
   "language": "python",
   "name": "python3"
  },
  "language_info": {
   "codemirror_mode": {
    "name": "ipython",
    "version": 3
   },
   "file_extension": ".py",
   "mimetype": "text/x-python",
   "name": "python",
   "nbconvert_exporter": "python",
   "pygments_lexer": "ipython3",
   "version": "3.13.2"
  },
  "polyglot_notebook": {
   "kernelInfo": {
    "defaultKernelName": "csharp",
    "items": [
     {
      "aliases": [],
      "languageName": "csharp",
      "name": "csharp"
     }
    ]
   }
  }
 },
 "nbformat": 4,
 "nbformat_minor": 2
}
