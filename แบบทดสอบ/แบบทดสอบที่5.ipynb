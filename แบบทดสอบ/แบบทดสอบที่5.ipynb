{
 "cells": [
  {
   "cell_type": "markdown",
   "metadata": {},
   "source": [
    "1. เปรียบเทียบประสิทธิภาพกับ Insertion Sort ปกติเมื่อทดสอบกับชุดข้อมูลขนาดใหญ่"
   ]
  },
  {
   "cell_type": "code",
   "execution_count": 1,
   "metadata": {},
   "outputs": [
    {
     "name": "stdout",
     "output_type": "stream",
     "text": [
      "Insertion Sort ใช้เวลา: 2816.265345 มิลลิวินาที\n",
      "Shell Sort ใช้เวลา: 15.923738 มิลลิวินาที\n"
     ]
    }
   ],
   "source": [
    "import time\n",
    "import random\n",
    "\n",
    "# ฟังก์ชัน Insertion Sort\n",
    "def insertion_sort(arr):\n",
    "    for i in range(1, len(arr)):\n",
    "        key = arr[i]\n",
    "        j = i - 1\n",
    "        while j >= 0 and arr[j] > key:\n",
    "            arr[j + 1] = arr[j]\n",
    "            j -= 1\n",
    "        arr[j + 1] = key\n",
    "    return arr\n",
    "\n",
    "# ฟังก์ชัน Shell Sort\n",
    "def shell_sort(arr):\n",
    "    n = len(arr)\n",
    "    gap = n // 2\n",
    "    while gap > 0:\n",
    "        for i in range(gap, n):\n",
    "            temp = arr[i]\n",
    "            j = i\n",
    "            while j >= gap and arr[j - gap] > temp:\n",
    "                arr[j] = arr[j - gap]\n",
    "                j -= gap\n",
    "            arr[j] = temp\n",
    "        gap //= 2\n",
    "    return arr\n",
    "\n",
    "# สร้างข้อมูลขนาดใหญ่\n",
    "data_size = 10000  # ใช้ขนาดข้อมูล 10,000 เพื่อทดสอบ\n",
    "test_data = random.sample(range(1, data_size + 1), data_size)\n",
    "\n",
    "# ทดสอบ Insertion Sort\n",
    "start_time = time.time()\n",
    "insertion_sort(test_data.copy())  # ใช้ copy เพื่อไม่ให้ข้อมูลเดิมถูกเปลี่ยนแปลง\n",
    "end_time = time.time()\n",
    "insertion_sort_time = (end_time - start_time) * 1000  # เวลาที่ใช้ในมิลลิวินาที\n",
    "\n",
    "# ทดสอบ Shell Sort\n",
    "start_time = time.time()\n",
    "shell_sort(test_data.copy())  # ใช้ copy เพื่อไม่ให้ข้อมูลเดิมถูกเปลี่ยนแปลง\n",
    "end_time = time.time()\n",
    "shell_sort_time = (end_time - start_time) * 1000  # เวลาที่ใช้ในมิลลิวินาที\n",
    "\n",
    "# แสดงผลลัพธ์\n",
    "print(f\"Insertion Sort ใช้เวลา: {insertion_sort_time:.6f} มิลลิวินาที\")\n",
    "print(f\"Shell Sort ใช้เวลา: {shell_sort_time:.6f} มิลลิวินาที\")\n"
   ]
  },
  {
   "cell_type": "markdown",
   "metadata": {},
   "source": [
    "2. ทดสอบกับชุดข้อมูลที่เกือบเรียงลำดับแล้ว และวัดประสิทธิภาพ"
   ]
  },
  {
   "cell_type": "code",
   "execution_count": 2,
   "metadata": {},
   "outputs": [
    {
     "name": "stdout",
     "output_type": "stream",
     "text": [
      "Insertion Sort ใช้เวลา: 1.968622 มิลลิวินาที\n",
      "Shell Sort ใช้เวลา: 7.864952 มิลลิวินาที\n"
     ]
    }
   ],
   "source": [
    "import time\n",
    "import random\n",
    "\n",
    "# ฟังก์ชัน Insertion Sort\n",
    "def insertion_sort(arr):\n",
    "    for i in range(1, len(arr)):\n",
    "        key = arr[i]\n",
    "        j = i - 1\n",
    "        while j >= 0 and arr[j] > key:\n",
    "            arr[j + 1] = arr[j]\n",
    "            j -= 1\n",
    "        arr[j + 1] = key\n",
    "    return arr\n",
    "\n",
    "# ฟังก์ชัน Shell Sort\n",
    "def shell_sort(arr):\n",
    "    n = len(arr)\n",
    "    gap = n // 2\n",
    "    while gap > 0:\n",
    "        for i in range(gap, n):\n",
    "            temp = arr[i]\n",
    "            j = i\n",
    "            while j >= gap and arr[j - gap] > temp:\n",
    "                arr[j] = arr[j - gap]\n",
    "                j -= gap\n",
    "            arr[j] = temp\n",
    "        gap //= 2\n",
    "    return arr\n",
    "\n",
    "# สร้างข้อมูลที่เกือบเรียงลำดับแล้ว\n",
    "data_size = 10000\n",
    "test_data = list(range(1, data_size + 1))  # ข้อมูลเรียงลำดับจากน้อยไปมาก\n",
    "# ทำการสลับข้อมูลไม่กี่ตำแหน่งเพื่อให้เป็นข้อมูลเกือบเรียงลำดับ\n",
    "test_data[100], test_data[101] = test_data[101], test_data[100]\n",
    "\n",
    "# ทดสอบ Insertion Sort กับข้อมูลที่เกือบเรียงลำดับ\n",
    "start_time = time.time()\n",
    "insertion_sort(test_data.copy())  # ใช้ copy เพื่อไม่ให้ข้อมูลเดิมถูกเปลี่ยนแปลง\n",
    "end_time = time.time()\n",
    "insertion_sort_time = (end_time - start_time) * 1000  # เวลาที่ใช้ในมิลลิวินาที\n",
    "\n",
    "# ทดสอบ Shell Sort กับข้อมูลที่เกือบเรียงลำดับ\n",
    "start_time = time.time()\n",
    "shell_sort(test_data.copy())  # ใช้ copy เพื่อไม่ให้ข้อมูลเดิมถูกเปลี่ยนแปลง\n",
    "end_time = time.time()\n",
    "shell_sort_time = (end_time - start_time) * 1000  # เวลาที่ใช้ในมิลลิวินาที\n",
    "\n",
    "# แสดงผลลัพธ์\n",
    "print(f\"Insertion Sort ใช้เวลา: {insertion_sort_time:.6f} มิลลิวินาที\")\n",
    "print(f\"Shell Sort ใช้เวลา: {shell_sort_time:.6f} มิลลิวินาที\")\n"
   ]
  }
 ],
 "metadata": {
  "kernelspec": {
   "display_name": "Python 3",
   "language": "python",
   "name": "python3"
  },
  "language_info": {
   "codemirror_mode": {
    "name": "ipython",
    "version": 3
   },
   "file_extension": ".py",
   "mimetype": "text/x-python",
   "name": "python",
   "nbconvert_exporter": "python",
   "pygments_lexer": "ipython3",
   "version": "3.13.2"
  },
  "polyglot_notebook": {
   "kernelInfo": {
    "defaultKernelName": "csharp",
    "items": [
     {
      "aliases": [],
      "languageName": "csharp",
      "name": "csharp"
     }
    ]
   }
  }
 },
 "nbformat": 4,
 "nbformat_minor": 2
}
