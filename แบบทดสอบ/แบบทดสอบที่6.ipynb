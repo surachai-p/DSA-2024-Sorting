{
 "cells": [
  {
   "cell_type": "markdown",
   "metadata": {},
   "source": [
    "1. ทดสอบกับชุดข้อมูลที่เกือบเรียงลำดับแล้ว และวัดประสิทธิภาพ"
   ]
  },
  {
   "cell_type": "code",
   "execution_count": null,
   "metadata": {},
   "outputs": [
    {
     "name": "stdout",
     "output_type": "stream",
     "text": [
      "ข้อมูลที่เรียงลำดับ: [1, 2, 3, 4, 5, 6, 7, 8, 9, 10, 11, 12]\n",
      "เวลาที่ใช้: 0.040293 มิลลิวินาที\n"
     ]
    }
   ],
   "source": [
    "import time\n",
    "\n",
    "# ชุดข้อมูลที่เกือบเรียงลำดับแล้ว\n",
    "nearly_sorted_data = [1, 2, 3, 4, 5, 6, 7, 8, 9, 10, 12, 11]\n",
    "\n",
    "# ฟังก์ชัน Merge Sort\n",
    "def merge_sort(arr):\n",
    "    if len(arr) <= 1:\n",
    "        return arr\n",
    "    \n",
    "    # แบ่งข้อมูลออกเป็นสองส่วน\n",
    "    mid = len(arr) // 2\n",
    "    left = arr[:mid]\n",
    "    right = arr[mid:]\n",
    "    \n",
    "    # เรียกใช้ recursive กับส่วนย่อย\n",
    "    left = merge_sort(left)\n",
    "    right = merge_sort(right)\n",
    "    \n",
    "    # รวมสองส่วนกลับเข้าด้วยกัน\n",
    "    return merge(left, right)\n",
    "\n",
    "def merge(left, right):\n",
    "    result = []\n",
    "    i = j = 0\n",
    "    \n",
    "    # เปรียบเทียบและนำค่าที่น้อยกว่าใส่ในผลลัพธ์\n",
    "    while i < len(left) and j < len(right):\n",
    "        if left[i] <= right[j]:\n",
    "            result.append(left[i])\n",
    "            i += 1\n",
    "        else:\n",
    "            result.append(right[j])\n",
    "            j += 1\n",
    "    \n",
    "    # เพิ่มส่วนที่เหลือ\n",
    "    result.extend(left[i:])\n",
    "    result.extend(right[j:])\n",
    "    \n",
    "    return result\n",
    "\n",
    "# วัดประสิทธิภาพ\n",
    "start_time = time.time()\n",
    "sorted_data = merge_sort(nearly_sorted_data.copy())\n",
    "end_time = time.time()\n",
    "\n",
    "# แสดงผล\n",
    "print(\"ข้อมูลที่เรียงลำดับ:\", sorted_data)\n",
    "print(f\"เวลาที่ใช้: {(end_time - start_time) * 1000:.6f} มิลลิวินาที\")\n"
   ]
  }
 ],
 "metadata": {
  "kernelspec": {
   "display_name": "Python 3",
   "language": "python",
   "name": "python3"
  },
  "language_info": {
   "codemirror_mode": {
    "name": "ipython",
    "version": 3
   },
   "file_extension": ".py",
   "mimetype": "text/x-python",
   "name": "python",
   "nbconvert_exporter": "python",
   "pygments_lexer": "ipython3",
   "version": "3.13.2"
  },
  "polyglot_notebook": {
   "kernelInfo": {
    "defaultKernelName": "csharp",
    "items": [
     {
      "aliases": [],
      "languageName": "csharp",
      "name": "csharp"
     }
    ]
   }
  }
 },
 "nbformat": 4,
 "nbformat_minor": 2
}
